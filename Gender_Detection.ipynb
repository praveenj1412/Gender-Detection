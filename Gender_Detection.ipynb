{
  "nbformat": 4,
  "nbformat_minor": 0,
  "metadata": {
    "colab": {
      "provenance": [],
      "gpuType": "V28"
    },
    "kernelspec": {
      "name": "python3",
      "display_name": "Python 3"
    },
    "language_info": {
      "name": "python"
    },
    "accelerator": "TPU"
  },
  "cells": [
    {
      "cell_type": "markdown",
      "source": [
        "##Importing the dataset using Kaggle API key"
      ],
      "metadata": {
        "id": "pgH3a5ZmXCMz"
      }
    },
    {
      "cell_type": "code",
      "execution_count": 1,
      "metadata": {
        "id": "QTYvfHC4FBwp",
        "colab": {
          "base_uri": "https://localhost:8080/",
          "height": 159
        },
        "outputId": "d3fed1a9-cc32-4ff4-fe78-c88e55afec51"
      },
      "outputs": [
        {
          "output_type": "display_data",
          "data": {
            "text/plain": [
              "<IPython.core.display.HTML object>"
            ],
            "text/html": [
              "\n",
              "     <input type=\"file\" id=\"files-6796f2fd-28cd-42f5-a0eb-610d9e3b035f\" name=\"files[]\" multiple disabled\n",
              "        style=\"border:none\" />\n",
              "     <output id=\"result-6796f2fd-28cd-42f5-a0eb-610d9e3b035f\">\n",
              "      Upload widget is only available when the cell has been executed in the\n",
              "      current browser session. Please rerun this cell to enable.\n",
              "      </output>\n",
              "      <script>// Copyright 2017 Google LLC\n",
              "//\n",
              "// Licensed under the Apache License, Version 2.0 (the \"License\");\n",
              "// you may not use this file except in compliance with the License.\n",
              "// You may obtain a copy of the License at\n",
              "//\n",
              "//      http://www.apache.org/licenses/LICENSE-2.0\n",
              "//\n",
              "// Unless required by applicable law or agreed to in writing, software\n",
              "// distributed under the License is distributed on an \"AS IS\" BASIS,\n",
              "// WITHOUT WARRANTIES OR CONDITIONS OF ANY KIND, either express or implied.\n",
              "// See the License for the specific language governing permissions and\n",
              "// limitations under the License.\n",
              "\n",
              "/**\n",
              " * @fileoverview Helpers for google.colab Python module.\n",
              " */\n",
              "(function(scope) {\n",
              "function span(text, styleAttributes = {}) {\n",
              "  const element = document.createElement('span');\n",
              "  element.textContent = text;\n",
              "  for (const key of Object.keys(styleAttributes)) {\n",
              "    element.style[key] = styleAttributes[key];\n",
              "  }\n",
              "  return element;\n",
              "}\n",
              "\n",
              "// Max number of bytes which will be uploaded at a time.\n",
              "const MAX_PAYLOAD_SIZE = 100 * 1024;\n",
              "\n",
              "function _uploadFiles(inputId, outputId) {\n",
              "  const steps = uploadFilesStep(inputId, outputId);\n",
              "  const outputElement = document.getElementById(outputId);\n",
              "  // Cache steps on the outputElement to make it available for the next call\n",
              "  // to uploadFilesContinue from Python.\n",
              "  outputElement.steps = steps;\n",
              "\n",
              "  return _uploadFilesContinue(outputId);\n",
              "}\n",
              "\n",
              "// This is roughly an async generator (not supported in the browser yet),\n",
              "// where there are multiple asynchronous steps and the Python side is going\n",
              "// to poll for completion of each step.\n",
              "// This uses a Promise to block the python side on completion of each step,\n",
              "// then passes the result of the previous step as the input to the next step.\n",
              "function _uploadFilesContinue(outputId) {\n",
              "  const outputElement = document.getElementById(outputId);\n",
              "  const steps = outputElement.steps;\n",
              "\n",
              "  const next = steps.next(outputElement.lastPromiseValue);\n",
              "  return Promise.resolve(next.value.promise).then((value) => {\n",
              "    // Cache the last promise value to make it available to the next\n",
              "    // step of the generator.\n",
              "    outputElement.lastPromiseValue = value;\n",
              "    return next.value.response;\n",
              "  });\n",
              "}\n",
              "\n",
              "/**\n",
              " * Generator function which is called between each async step of the upload\n",
              " * process.\n",
              " * @param {string} inputId Element ID of the input file picker element.\n",
              " * @param {string} outputId Element ID of the output display.\n",
              " * @return {!Iterable<!Object>} Iterable of next steps.\n",
              " */\n",
              "function* uploadFilesStep(inputId, outputId) {\n",
              "  const inputElement = document.getElementById(inputId);\n",
              "  inputElement.disabled = false;\n",
              "\n",
              "  const outputElement = document.getElementById(outputId);\n",
              "  outputElement.innerHTML = '';\n",
              "\n",
              "  const pickedPromise = new Promise((resolve) => {\n",
              "    inputElement.addEventListener('change', (e) => {\n",
              "      resolve(e.target.files);\n",
              "    });\n",
              "  });\n",
              "\n",
              "  const cancel = document.createElement('button');\n",
              "  inputElement.parentElement.appendChild(cancel);\n",
              "  cancel.textContent = 'Cancel upload';\n",
              "  const cancelPromise = new Promise((resolve) => {\n",
              "    cancel.onclick = () => {\n",
              "      resolve(null);\n",
              "    };\n",
              "  });\n",
              "\n",
              "  // Wait for the user to pick the files.\n",
              "  const files = yield {\n",
              "    promise: Promise.race([pickedPromise, cancelPromise]),\n",
              "    response: {\n",
              "      action: 'starting',\n",
              "    }\n",
              "  };\n",
              "\n",
              "  cancel.remove();\n",
              "\n",
              "  // Disable the input element since further picks are not allowed.\n",
              "  inputElement.disabled = true;\n",
              "\n",
              "  if (!files) {\n",
              "    return {\n",
              "      response: {\n",
              "        action: 'complete',\n",
              "      }\n",
              "    };\n",
              "  }\n",
              "\n",
              "  for (const file of files) {\n",
              "    const li = document.createElement('li');\n",
              "    li.append(span(file.name, {fontWeight: 'bold'}));\n",
              "    li.append(span(\n",
              "        `(${file.type || 'n/a'}) - ${file.size} bytes, ` +\n",
              "        `last modified: ${\n",
              "            file.lastModifiedDate ? file.lastModifiedDate.toLocaleDateString() :\n",
              "                                    'n/a'} - `));\n",
              "    const percent = span('0% done');\n",
              "    li.appendChild(percent);\n",
              "\n",
              "    outputElement.appendChild(li);\n",
              "\n",
              "    const fileDataPromise = new Promise((resolve) => {\n",
              "      const reader = new FileReader();\n",
              "      reader.onload = (e) => {\n",
              "        resolve(e.target.result);\n",
              "      };\n",
              "      reader.readAsArrayBuffer(file);\n",
              "    });\n",
              "    // Wait for the data to be ready.\n",
              "    let fileData = yield {\n",
              "      promise: fileDataPromise,\n",
              "      response: {\n",
              "        action: 'continue',\n",
              "      }\n",
              "    };\n",
              "\n",
              "    // Use a chunked sending to avoid message size limits. See b/62115660.\n",
              "    let position = 0;\n",
              "    do {\n",
              "      const length = Math.min(fileData.byteLength - position, MAX_PAYLOAD_SIZE);\n",
              "      const chunk = new Uint8Array(fileData, position, length);\n",
              "      position += length;\n",
              "\n",
              "      const base64 = btoa(String.fromCharCode.apply(null, chunk));\n",
              "      yield {\n",
              "        response: {\n",
              "          action: 'append',\n",
              "          file: file.name,\n",
              "          data: base64,\n",
              "        },\n",
              "      };\n",
              "\n",
              "      let percentDone = fileData.byteLength === 0 ?\n",
              "          100 :\n",
              "          Math.round((position / fileData.byteLength) * 100);\n",
              "      percent.textContent = `${percentDone}% done`;\n",
              "\n",
              "    } while (position < fileData.byteLength);\n",
              "  }\n",
              "\n",
              "  // All done.\n",
              "  yield {\n",
              "    response: {\n",
              "      action: 'complete',\n",
              "    }\n",
              "  };\n",
              "}\n",
              "\n",
              "scope.google = scope.google || {};\n",
              "scope.google.colab = scope.google.colab || {};\n",
              "scope.google.colab._files = {\n",
              "  _uploadFiles,\n",
              "  _uploadFilesContinue,\n",
              "};\n",
              "})(self);\n",
              "</script> "
            ]
          },
          "metadata": {}
        },
        {
          "output_type": "stream",
          "name": "stdout",
          "text": [
            "Saving utkface-new-metadata.json to utkface-new-metadata.json\n",
            "Dataset URL: https://www.kaggle.com/datasets/jangedoo/utkface-new\n",
            "License(s): copyright-authors\n",
            "Downloading utkface-new.zip to /content\n",
            " 95% 316M/331M [00:01<00:00, 268MB/s]\n",
            "100% 331M/331M [00:01<00:00, 243MB/s]\n"
          ]
        }
      ],
      "source": [
        "!pip install -q kaggle\n",
        "from google.colab import files\n",
        "files.upload()\n",
        "!mkdir -p ~/.utkface-new-metadata\n",
        "!mv utkface-new-metadata.json ~/.utkface-new-metadata/\n",
        "!chmod 600 ~/.utkface-new-metadata/utkface-new-metadata.json\n",
        "!kaggle datasets download -d jangedoo/utkface-new\n",
        "!unzip -q utkface-new.zip"
      ]
    },
    {
      "cell_type": "markdown",
      "source": [
        "##Importing necessary libraries"
      ],
      "metadata": {
        "id": "DJ4BOOy6XZDC"
      }
    },
    {
      "cell_type": "code",
      "source": [
        "from tensorflow.keras.preprocessing.image import ImageDataGenerator\n",
        "from tensorflow.keras.optimizers.legacy import Adam\n",
        "from tensorflow.keras.preprocessing.image import img_to_array\n",
        "from tensorflow.keras.utils import to_categorical, plot_model\n",
        "from tensorflow.keras.models import Sequential, load_model\n",
        "from tensorflow.keras.layers import BatchNormalization, Conv2D, MaxPooling2D, Activation, Flatten, Dropout, Dense\n",
        "from tensorflow.keras import backend as K\n",
        "from sklearn.model_selection import train_test_split\n",
        "import matplotlib.pyplot as plt\n",
        "import numpy as np\n",
        "import random\n",
        "import cv2\n",
        "import os\n",
        "import glob"
      ],
      "metadata": {
        "id": "qQ4o9TzIFKdj"
      },
      "execution_count": 2,
      "outputs": []
    },
    {
      "cell_type": "code",
      "source": [
        "# initial parameters\n",
        "epochs = 100\n",
        "lr = 1e-3\n",
        "batch_size = 64\n",
        "img_dims = (96,96,3)"
      ],
      "metadata": {
        "id": "amJxJKXfzIsc"
      },
      "execution_count": 3,
      "outputs": []
    },
    {
      "cell_type": "markdown",
      "source": [
        "##Extracting the images as pixels and labels as gender"
      ],
      "metadata": {
        "id": "wvJ7vNbZXdq6"
      }
    },
    {
      "cell_type": "code",
      "source": [
        "path = \"/content/UTKFace\"\n",
        "pixels = []\n",
        "gender = []\n",
        "i=0\n",
        "for img in os.listdir(path):\n",
        "  i=i+1\n",
        "  genders = img.split(\"_\")[1]\n",
        "  img = cv2.imread(str(path)+\"/\"+str(img))\n",
        "  img=cv2.resize(img, (img_dims[0],img_dims[1]))\n",
        "  pixels.append(np.array(img))\n",
        "  gender.append(np.array(genders))"
      ],
      "metadata": {
        "id": "rhQ5IbyAFTMc"
      },
      "execution_count": 4,
      "outputs": []
    },
    {
      "cell_type": "code",
      "source": [
        "len(pixels)\n",
        "len(gender)"
      ],
      "metadata": {
        "colab": {
          "base_uri": "https://localhost:8080/"
        },
        "id": "RJxMS3WjGJQO",
        "outputId": "2cf2e070-2dc7-4420-e6fa-6ece5c902354"
      },
      "execution_count": 5,
      "outputs": [
        {
          "output_type": "execute_result",
          "data": {
            "text/plain": [
              "23708"
            ]
          },
          "metadata": {},
          "execution_count": 5
        }
      ]
    },
    {
      "cell_type": "code",
      "source": [
        "# Convert lists to numpy arrays\n",
        "pixels = np.array(pixels, dtype=\"float\") / 255.0\n",
        "gender = np.array(gender)"
      ],
      "metadata": {
        "id": "OOznZRX0nuev"
      },
      "execution_count": 6,
      "outputs": []
    },
    {
      "cell_type": "markdown",
      "source": [
        "##Splitting for training and validation"
      ],
      "metadata": {
        "id": "VS_v_pBOXnM7"
      }
    },
    {
      "cell_type": "code",
      "source": [
        "# split dataset for training and validation\n",
        "(trainX, testX, trainY, testY) = train_test_split(pixels, gender, test_size=0.2,random_state=42)"
      ],
      "metadata": {
        "id": "athrORtymRbG"
      },
      "execution_count": 7,
      "outputs": []
    },
    {
      "cell_type": "code",
      "source": [
        "trainY = to_categorical(trainY, num_classes=2)\n",
        "testY = to_categorical(testY, num_classes=2)\n",
        "\n",
        "# augmenting datset\n",
        "aug = ImageDataGenerator(rotation_range=25, width_shift_range=0.1,\n",
        "                         height_shift_range=0.1, shear_range=0.2, zoom_range=0.2,\n",
        "                         horizontal_flip=True, fill_mode=\"nearest\")"
      ],
      "metadata": {
        "id": "gn7vwXuUmZJW"
      },
      "execution_count": 8,
      "outputs": []
    },
    {
      "cell_type": "markdown",
      "source": [
        "###CNN Model"
      ],
      "metadata": {
        "id": "wH2TqBd5Xxtv"
      }
    },
    {
      "cell_type": "code",
      "source": [
        "# define model\n",
        "def build(width, height, depth, classes):\n",
        "    model = Sequential()\n",
        "    inputShape = (height, width, depth)\n",
        "    chanDim = -1\n",
        "\n",
        "    if K.image_data_format() == \"channels_first\":\n",
        "        inputShape = (depth, height, width)\n",
        "        chanDim = 1\n",
        "\n",
        "    model.add(Conv2D(32, (3,3), padding=\"same\", input_shape=inputShape))\n",
        "    model.add(Activation(\"relu\"))\n",
        "    model.add(BatchNormalization(axis=chanDim))\n",
        "    model.add(MaxPooling2D(pool_size=(3,3)))\n",
        "    model.add(Dropout(0.25))\n",
        "\n",
        "    model.add(Conv2D(64, (3,3), padding=\"same\"))\n",
        "    model.add(Activation(\"relu\"))\n",
        "    model.add(BatchNormalization(axis=chanDim))\n",
        "\n",
        "    model.add(Conv2D(64, (3,3), padding=\"same\"))\n",
        "    model.add(Activation(\"relu\"))\n",
        "    model.add(BatchNormalization(axis=chanDim))\n",
        "    model.add(MaxPooling2D(pool_size=(2,2)))\n",
        "    model.add(Dropout(0.25))\n",
        "\n",
        "    model.add(Conv2D(128, (3,3), padding=\"same\"))\n",
        "    model.add(Activation(\"relu\"))\n",
        "    model.add(BatchNormalization(axis=chanDim))\n",
        "\n",
        "    model.add(Conv2D(128, (3,3), padding=\"same\"))\n",
        "    model.add(Activation(\"relu\"))\n",
        "    model.add(BatchNormalization(axis=chanDim))\n",
        "    model.add(MaxPooling2D(pool_size=(2,2)))\n",
        "    model.add(Dropout(0.25))\n",
        "\n",
        "    model.add(Flatten())\n",
        "    model.add(Dense(1024))\n",
        "    model.add(Activation(\"relu\"))\n",
        "    model.add(BatchNormalization())\n",
        "    model.add(Dropout(0.5))\n",
        "\n",
        "    model.add(Dense(classes))\n",
        "    model.add(Activation(\"sigmoid\"))\n",
        "\n",
        "    return model\n",
        "\n",
        "# build model\n",
        "model = build(width=img_dims[0], height=img_dims[1], depth=img_dims[2], classes=2)"
      ],
      "metadata": {
        "id": "FbaBtYk7GQSO"
      },
      "execution_count": 9,
      "outputs": []
    },
    {
      "cell_type": "code",
      "source": [
        "# compile the model\n",
        "opt = Adam(lr=lr, decay=lr/epochs)\n",
        "model.compile(loss=\"binary_crossentropy\", optimizer=opt, metrics=[\"accuracy\"])\n"
      ],
      "metadata": {
        "id": "KLN7632fG7fm",
        "colab": {
          "base_uri": "https://localhost:8080/"
        },
        "outputId": "a0c311e1-857c-4343-f727-27cf95081fd3"
      },
      "execution_count": 10,
      "outputs": [
        {
          "output_type": "stream",
          "name": "stderr",
          "text": [
            "/usr/local/lib/python3.10/dist-packages/keras/src/optimizers/legacy/adam.py:118: UserWarning: The `lr` argument is deprecated, use `learning_rate` instead.\n",
            "  super().__init__(name, **kwargs)\n"
          ]
        }
      ]
    },
    {
      "cell_type": "code",
      "source": [
        "# train the model\n",
        "H = model.fit_generator(aug.flow(trainX, trainY, batch_size=batch_size),\n",
        "                        validation_data=(testX,testY),\n",
        "                        steps_per_epoch=len(trainX) // batch_size,\n",
        "                        epochs=epochs, verbose=1)"
      ],
      "metadata": {
        "colab": {
          "base_uri": "https://localhost:8080/"
        },
        "id": "rvckmwr-ped5",
        "outputId": "ab2a9f24-9c4c-49be-f6ea-d77441127aed"
      },
      "execution_count": 11,
      "outputs": [
        {
          "output_type": "stream",
          "name": "stderr",
          "text": [
            "<ipython-input-11-6fd3f78d1570>:2: UserWarning: `Model.fit_generator` is deprecated and will be removed in a future version. Please use `Model.fit`, which supports generators.\n",
            "  H = model.fit_generator(aug.flow(trainX, trainY, batch_size=batch_size),\n"
          ]
        },
        {
          "output_type": "stream",
          "name": "stdout",
          "text": [
            "Epoch 1/100\n",
            "296/296 [==============================] - 69s 228ms/step - loss: 0.6299 - accuracy: 0.7196 - val_loss: 0.8586 - val_accuracy: 0.6506\n",
            "Epoch 2/100\n",
            "296/296 [==============================] - 66s 222ms/step - loss: 0.4751 - accuracy: 0.7808 - val_loss: 0.6908 - val_accuracy: 0.6506\n",
            "Epoch 3/100\n",
            "296/296 [==============================] - 67s 225ms/step - loss: 0.4015 - accuracy: 0.8195 - val_loss: 0.3746 - val_accuracy: 0.8267\n",
            "Epoch 4/100\n",
            "296/296 [==============================] - 66s 223ms/step - loss: 0.3620 - accuracy: 0.8358 - val_loss: 0.4104 - val_accuracy: 0.8256\n",
            "Epoch 5/100\n",
            "296/296 [==============================] - 66s 221ms/step - loss: 0.3466 - accuracy: 0.8467 - val_loss: 0.3939 - val_accuracy: 0.8340\n",
            "Epoch 6/100\n",
            "296/296 [==============================] - 66s 221ms/step - loss: 0.3250 - accuracy: 0.8573 - val_loss: 0.3892 - val_accuracy: 0.8271\n",
            "Epoch 7/100\n",
            "296/296 [==============================] - 66s 222ms/step - loss: 0.3225 - accuracy: 0.8588 - val_loss: 0.3056 - val_accuracy: 0.8709\n",
            "Epoch 8/100\n",
            "296/296 [==============================] - 65s 218ms/step - loss: 0.3058 - accuracy: 0.8654 - val_loss: 0.2666 - val_accuracy: 0.8857\n",
            "Epoch 9/100\n",
            "296/296 [==============================] - 65s 220ms/step - loss: 0.2933 - accuracy: 0.8723 - val_loss: 0.5187 - val_accuracy: 0.8011\n",
            "Epoch 10/100\n",
            "296/296 [==============================] - 65s 219ms/step - loss: 0.2912 - accuracy: 0.8737 - val_loss: 0.4788 - val_accuracy: 0.7954\n",
            "Epoch 11/100\n",
            "296/296 [==============================] - 65s 219ms/step - loss: 0.2820 - accuracy: 0.8776 - val_loss: 0.2741 - val_accuracy: 0.8857\n",
            "Epoch 12/100\n",
            "296/296 [==============================] - 65s 220ms/step - loss: 0.2777 - accuracy: 0.8764 - val_loss: 0.4330 - val_accuracy: 0.8307\n",
            "Epoch 13/100\n",
            "296/296 [==============================] - 65s 219ms/step - loss: 0.2756 - accuracy: 0.8783 - val_loss: 0.3638 - val_accuracy: 0.8950\n",
            "Epoch 14/100\n",
            "296/296 [==============================] - 65s 218ms/step - loss: 0.2688 - accuracy: 0.8848 - val_loss: 0.4654 - val_accuracy: 0.8075\n",
            "Epoch 15/100\n",
            "296/296 [==============================] - 66s 221ms/step - loss: 0.2903 - accuracy: 0.8726 - val_loss: 0.4369 - val_accuracy: 0.8315\n",
            "Epoch 16/100\n",
            "296/296 [==============================] - 64s 217ms/step - loss: 0.2683 - accuracy: 0.8865 - val_loss: 0.2931 - val_accuracy: 0.8682\n",
            "Epoch 17/100\n",
            "296/296 [==============================] - 65s 219ms/step - loss: 0.2574 - accuracy: 0.8895 - val_loss: 0.2337 - val_accuracy: 0.9019\n",
            "Epoch 18/100\n",
            "296/296 [==============================] - 65s 220ms/step - loss: 0.2514 - accuracy: 0.8921 - val_loss: 0.2483 - val_accuracy: 0.8931\n",
            "Epoch 19/100\n",
            "296/296 [==============================] - 65s 218ms/step - loss: 0.2477 - accuracy: 0.8958 - val_loss: 0.2497 - val_accuracy: 0.8931\n",
            "Epoch 20/100\n",
            "296/296 [==============================] - 65s 219ms/step - loss: 0.2464 - accuracy: 0.8941 - val_loss: 0.2419 - val_accuracy: 0.9005\n",
            "Epoch 21/100\n",
            "296/296 [==============================] - 65s 218ms/step - loss: 0.2520 - accuracy: 0.8942 - val_loss: 0.2511 - val_accuracy: 0.8929\n",
            "Epoch 22/100\n",
            "296/296 [==============================] - 65s 218ms/step - loss: 0.2533 - accuracy: 0.8908 - val_loss: 0.2484 - val_accuracy: 0.9005\n",
            "Epoch 23/100\n",
            "296/296 [==============================] - 65s 220ms/step - loss: 0.2475 - accuracy: 0.8921 - val_loss: 0.2145 - val_accuracy: 0.9070\n",
            "Epoch 24/100\n",
            "296/296 [==============================] - 65s 218ms/step - loss: 0.2408 - accuracy: 0.8961 - val_loss: 0.2305 - val_accuracy: 0.9026\n",
            "Epoch 25/100\n",
            "296/296 [==============================] - 65s 220ms/step - loss: 0.2338 - accuracy: 0.9000 - val_loss: 0.2515 - val_accuracy: 0.8874\n",
            "Epoch 26/100\n",
            "296/296 [==============================] - 65s 220ms/step - loss: 0.2384 - accuracy: 0.8978 - val_loss: 0.2232 - val_accuracy: 0.9072\n",
            "Epoch 27/100\n",
            "296/296 [==============================] - 65s 219ms/step - loss: 0.2321 - accuracy: 0.9020 - val_loss: 0.2429 - val_accuracy: 0.8975\n",
            "Epoch 28/100\n",
            "296/296 [==============================] - 64s 217ms/step - loss: 0.2417 - accuracy: 0.8961 - val_loss: 0.3098 - val_accuracy: 0.8739\n",
            "Epoch 29/100\n",
            "296/296 [==============================] - 65s 220ms/step - loss: 0.2329 - accuracy: 0.9002 - val_loss: 0.2388 - val_accuracy: 0.8994\n",
            "Epoch 30/100\n",
            "296/296 [==============================] - 65s 220ms/step - loss: 0.2303 - accuracy: 0.9039 - val_loss: 0.2628 - val_accuracy: 0.8914\n",
            "Epoch 31/100\n",
            "296/296 [==============================] - 65s 220ms/step - loss: 0.2254 - accuracy: 0.9054 - val_loss: 0.2154 - val_accuracy: 0.9125\n",
            "Epoch 32/100\n",
            "296/296 [==============================] - 64s 217ms/step - loss: 0.2275 - accuracy: 0.9019 - val_loss: 0.2137 - val_accuracy: 0.9081\n",
            "Epoch 33/100\n",
            "296/296 [==============================] - 65s 219ms/step - loss: 0.2257 - accuracy: 0.9047 - val_loss: 0.2180 - val_accuracy: 0.9127\n",
            "Epoch 34/100\n",
            "296/296 [==============================] - 65s 220ms/step - loss: 0.2188 - accuracy: 0.9078 - val_loss: 0.2637 - val_accuracy: 0.8994\n",
            "Epoch 35/100\n",
            "296/296 [==============================] - 65s 220ms/step - loss: 0.2173 - accuracy: 0.9074 - val_loss: 0.2330 - val_accuracy: 0.9051\n",
            "Epoch 36/100\n",
            "296/296 [==============================] - 66s 222ms/step - loss: 0.2181 - accuracy: 0.9085 - val_loss: 0.2045 - val_accuracy: 0.9140\n",
            "Epoch 37/100\n",
            "296/296 [==============================] - 65s 219ms/step - loss: 0.2145 - accuracy: 0.9119 - val_loss: 0.2940 - val_accuracy: 0.8922\n",
            "Epoch 38/100\n",
            "296/296 [==============================] - 65s 219ms/step - loss: 0.2099 - accuracy: 0.9139 - val_loss: 0.2193 - val_accuracy: 0.9091\n",
            "Epoch 39/100\n",
            "296/296 [==============================] - 66s 222ms/step - loss: 0.2157 - accuracy: 0.9115 - val_loss: 0.2089 - val_accuracy: 0.9148\n",
            "Epoch 40/100\n",
            "296/296 [==============================] - 65s 219ms/step - loss: 0.2135 - accuracy: 0.9117 - val_loss: 0.2093 - val_accuracy: 0.9152\n",
            "Epoch 41/100\n",
            "296/296 [==============================] - 65s 219ms/step - loss: 0.2087 - accuracy: 0.9130 - val_loss: 0.2044 - val_accuracy: 0.9178\n",
            "Epoch 42/100\n",
            "296/296 [==============================] - 65s 220ms/step - loss: 0.2099 - accuracy: 0.9133 - val_loss: 0.2052 - val_accuracy: 0.9146\n",
            "Epoch 43/100\n",
            "296/296 [==============================] - 65s 218ms/step - loss: 0.2091 - accuracy: 0.9113 - val_loss: 0.2067 - val_accuracy: 0.9159\n",
            "Epoch 44/100\n",
            "296/296 [==============================] - 65s 220ms/step - loss: 0.2087 - accuracy: 0.9144 - val_loss: 0.2270 - val_accuracy: 0.9076\n",
            "Epoch 45/100\n",
            "296/296 [==============================] - 65s 220ms/step - loss: 0.2056 - accuracy: 0.9163 - val_loss: 0.2425 - val_accuracy: 0.9022\n",
            "Epoch 46/100\n",
            "296/296 [==============================] - 65s 219ms/step - loss: 0.2096 - accuracy: 0.9136 - val_loss: 0.2121 - val_accuracy: 0.9152\n",
            "Epoch 47/100\n",
            "296/296 [==============================] - 66s 221ms/step - loss: 0.2090 - accuracy: 0.9139 - val_loss: 0.2085 - val_accuracy: 0.9175\n",
            "Epoch 48/100\n",
            "296/296 [==============================] - 65s 220ms/step - loss: 0.2007 - accuracy: 0.9159 - val_loss: 0.2436 - val_accuracy: 0.9038\n",
            "Epoch 49/100\n",
            "296/296 [==============================] - 65s 220ms/step - loss: 0.2047 - accuracy: 0.9166 - val_loss: 0.2036 - val_accuracy: 0.9173\n",
            "Epoch 50/100\n",
            "296/296 [==============================] - 66s 222ms/step - loss: 0.2084 - accuracy: 0.9154 - val_loss: 0.1964 - val_accuracy: 0.9213\n",
            "Epoch 51/100\n",
            "296/296 [==============================] - 65s 220ms/step - loss: 0.2033 - accuracy: 0.9182 - val_loss: 0.1977 - val_accuracy: 0.9186\n",
            "Epoch 52/100\n",
            "296/296 [==============================] - 65s 219ms/step - loss: 0.1965 - accuracy: 0.9187 - val_loss: 0.2143 - val_accuracy: 0.9140\n",
            "Epoch 53/100\n",
            "296/296 [==============================] - 64s 217ms/step - loss: 0.1978 - accuracy: 0.9191 - val_loss: 0.2097 - val_accuracy: 0.9173\n",
            "Epoch 54/100\n",
            "296/296 [==============================] - 64s 217ms/step - loss: 0.1969 - accuracy: 0.9175 - val_loss: 0.2136 - val_accuracy: 0.9152\n",
            "Epoch 55/100\n",
            "296/296 [==============================] - 65s 219ms/step - loss: 0.1961 - accuracy: 0.9199 - val_loss: 0.2275 - val_accuracy: 0.9100\n",
            "Epoch 56/100\n",
            "296/296 [==============================] - 65s 218ms/step - loss: 0.1884 - accuracy: 0.9230 - val_loss: 0.2038 - val_accuracy: 0.9197\n",
            "Epoch 57/100\n",
            "296/296 [==============================] - 65s 219ms/step - loss: 0.1904 - accuracy: 0.9223 - val_loss: 0.2178 - val_accuracy: 0.9137\n",
            "Epoch 58/100\n",
            "296/296 [==============================] - 65s 218ms/step - loss: 0.1909 - accuracy: 0.9200 - val_loss: 0.1995 - val_accuracy: 0.9203\n",
            "Epoch 59/100\n",
            "296/296 [==============================] - 65s 220ms/step - loss: 0.1923 - accuracy: 0.9189 - val_loss: 0.2206 - val_accuracy: 0.9083\n",
            "Epoch 60/100\n",
            "296/296 [==============================] - 65s 219ms/step - loss: 0.1883 - accuracy: 0.9229 - val_loss: 0.2046 - val_accuracy: 0.9161\n",
            "Epoch 61/100\n",
            "296/296 [==============================] - 64s 217ms/step - loss: 0.1886 - accuracy: 0.9226 - val_loss: 0.2105 - val_accuracy: 0.9150\n",
            "Epoch 62/100\n",
            "296/296 [==============================] - 64s 216ms/step - loss: 0.1934 - accuracy: 0.9201 - val_loss: 0.2025 - val_accuracy: 0.9173\n",
            "Epoch 63/100\n",
            "296/296 [==============================] - 65s 220ms/step - loss: 0.1877 - accuracy: 0.9234 - val_loss: 0.2170 - val_accuracy: 0.9146\n",
            "Epoch 64/100\n",
            "296/296 [==============================] - 65s 221ms/step - loss: 0.1889 - accuracy: 0.9216 - val_loss: 0.2129 - val_accuracy: 0.9131\n",
            "Epoch 65/100\n",
            "296/296 [==============================] - 65s 220ms/step - loss: 0.1876 - accuracy: 0.9222 - val_loss: 0.3205 - val_accuracy: 0.8925\n",
            "Epoch 66/100\n",
            "296/296 [==============================] - 65s 220ms/step - loss: 0.1836 - accuracy: 0.9275 - val_loss: 0.2063 - val_accuracy: 0.9175\n",
            "Epoch 67/100\n",
            "296/296 [==============================] - 65s 219ms/step - loss: 0.1887 - accuracy: 0.9212 - val_loss: 0.2277 - val_accuracy: 0.9154\n",
            "Epoch 68/100\n",
            "296/296 [==============================] - 64s 217ms/step - loss: 0.1789 - accuracy: 0.9287 - val_loss: 0.2134 - val_accuracy: 0.9156\n",
            "Epoch 69/100\n",
            "296/296 [==============================] - 65s 218ms/step - loss: 0.1846 - accuracy: 0.9258 - val_loss: 0.1904 - val_accuracy: 0.9237\n",
            "Epoch 70/100\n",
            "296/296 [==============================] - 66s 222ms/step - loss: 0.1808 - accuracy: 0.9258 - val_loss: 0.2039 - val_accuracy: 0.9224\n",
            "Epoch 71/100\n",
            "296/296 [==============================] - 65s 221ms/step - loss: 0.1808 - accuracy: 0.9254 - val_loss: 0.1984 - val_accuracy: 0.9216\n",
            "Epoch 72/100\n",
            "296/296 [==============================] - 65s 218ms/step - loss: 0.1831 - accuracy: 0.9252 - val_loss: 0.2258 - val_accuracy: 0.9173\n",
            "Epoch 73/100\n",
            "296/296 [==============================] - 64s 217ms/step - loss: 0.1795 - accuracy: 0.9256 - val_loss: 0.2717 - val_accuracy: 0.8948\n",
            "Epoch 74/100\n",
            "296/296 [==============================] - 65s 221ms/step - loss: 0.1787 - accuracy: 0.9284 - val_loss: 0.2339 - val_accuracy: 0.9106\n",
            "Epoch 75/100\n",
            "296/296 [==============================] - 65s 219ms/step - loss: 0.1805 - accuracy: 0.9275 - val_loss: 0.2062 - val_accuracy: 0.9239\n",
            "Epoch 76/100\n",
            "296/296 [==============================] - 65s 220ms/step - loss: 0.1758 - accuracy: 0.9296 - val_loss: 0.2075 - val_accuracy: 0.9224\n",
            "Epoch 77/100\n",
            "296/296 [==============================] - 65s 219ms/step - loss: 0.1741 - accuracy: 0.9295 - val_loss: 0.2406 - val_accuracy: 0.9064\n",
            "Epoch 78/100\n",
            "296/296 [==============================] - 65s 219ms/step - loss: 0.1791 - accuracy: 0.9276 - val_loss: 0.2046 - val_accuracy: 0.9178\n",
            "Epoch 79/100\n",
            "296/296 [==============================] - 65s 221ms/step - loss: 0.1823 - accuracy: 0.9257 - val_loss: 0.2417 - val_accuracy: 0.9059\n",
            "Epoch 80/100\n",
            "296/296 [==============================] - 64s 217ms/step - loss: 0.1721 - accuracy: 0.9315 - val_loss: 0.1951 - val_accuracy: 0.9194\n",
            "Epoch 81/100\n",
            "296/296 [==============================] - 65s 219ms/step - loss: 0.1725 - accuracy: 0.9310 - val_loss: 0.2569 - val_accuracy: 0.9057\n",
            "Epoch 82/100\n",
            "296/296 [==============================] - 64s 216ms/step - loss: 0.1730 - accuracy: 0.9289 - val_loss: 0.2043 - val_accuracy: 0.9182\n",
            "Epoch 83/100\n",
            "296/296 [==============================] - 65s 220ms/step - loss: 0.1756 - accuracy: 0.9284 - val_loss: 0.2342 - val_accuracy: 0.9125\n",
            "Epoch 84/100\n",
            "296/296 [==============================] - 65s 219ms/step - loss: 0.1732 - accuracy: 0.9300 - val_loss: 0.2058 - val_accuracy: 0.9188\n",
            "Epoch 85/100\n",
            "296/296 [==============================] - 64s 217ms/step - loss: 0.1756 - accuracy: 0.9298 - val_loss: 0.2099 - val_accuracy: 0.9169\n",
            "Epoch 86/100\n",
            "296/296 [==============================] - 64s 216ms/step - loss: 0.1722 - accuracy: 0.9311 - val_loss: 0.2202 - val_accuracy: 0.9116\n",
            "Epoch 87/100\n",
            "296/296 [==============================] - 64s 217ms/step - loss: 0.1692 - accuracy: 0.9318 - val_loss: 0.2100 - val_accuracy: 0.9209\n",
            "Epoch 88/100\n",
            "296/296 [==============================] - 65s 218ms/step - loss: 0.1651 - accuracy: 0.9339 - val_loss: 0.2063 - val_accuracy: 0.9241\n",
            "Epoch 89/100\n",
            "296/296 [==============================] - 65s 218ms/step - loss: 0.1692 - accuracy: 0.9307 - val_loss: 0.2063 - val_accuracy: 0.9197\n",
            "Epoch 90/100\n",
            "296/296 [==============================] - 65s 219ms/step - loss: 0.1697 - accuracy: 0.9307 - val_loss: 0.2143 - val_accuracy: 0.9178\n",
            "Epoch 91/100\n",
            "296/296 [==============================] - 65s 219ms/step - loss: 0.1710 - accuracy: 0.9295 - val_loss: 0.3050 - val_accuracy: 0.8935\n",
            "Epoch 92/100\n",
            "296/296 [==============================] - 65s 219ms/step - loss: 0.1793 - accuracy: 0.9266 - val_loss: 0.2114 - val_accuracy: 0.9197\n",
            "Epoch 93/100\n",
            "296/296 [==============================] - 65s 220ms/step - loss: 0.1636 - accuracy: 0.9326 - val_loss: 0.2038 - val_accuracy: 0.9230\n",
            "Epoch 94/100\n",
            "296/296 [==============================] - 65s 218ms/step - loss: 0.1671 - accuracy: 0.9342 - val_loss: 0.2139 - val_accuracy: 0.9218\n",
            "Epoch 95/100\n",
            "296/296 [==============================] - 64s 218ms/step - loss: 0.1615 - accuracy: 0.9364 - val_loss: 0.1963 - val_accuracy: 0.9262\n",
            "Epoch 96/100\n",
            "296/296 [==============================] - 65s 219ms/step - loss: 0.1602 - accuracy: 0.9359 - val_loss: 0.2392 - val_accuracy: 0.9137\n",
            "Epoch 97/100\n",
            "296/296 [==============================] - 64s 217ms/step - loss: 0.1638 - accuracy: 0.9346 - val_loss: 0.2047 - val_accuracy: 0.9216\n",
            "Epoch 98/100\n",
            "296/296 [==============================] - 65s 220ms/step - loss: 0.1656 - accuracy: 0.9333 - val_loss: 0.2256 - val_accuracy: 0.9180\n",
            "Epoch 99/100\n",
            "296/296 [==============================] - 65s 218ms/step - loss: 0.1625 - accuracy: 0.9352 - val_loss: 0.2153 - val_accuracy: 0.9175\n",
            "Epoch 100/100\n",
            "296/296 [==============================] - 64s 217ms/step - loss: 0.1636 - accuracy: 0.9339 - val_loss: 0.2041 - val_accuracy: 0.9277\n"
          ]
        }
      ]
    },
    {
      "cell_type": "code",
      "source": [
        "# plot training/validation loss/accuracy\n",
        "plt.style.use(\"ggplot\")\n",
        "plt.figure()\n",
        "N = epochs\n",
        "plt.plot(np.arange(0,N), H.history[\"loss\"], label=\"train_loss\")\n",
        "plt.plot(np.arange(0,N), H.history[\"val_loss\"], label=\"val_loss\")\n",
        "plt.plot(np.arange(0,N), H.history[\"accuracy\"], label=\"train_acc\")\n",
        "plt.plot(np.arange(0,N), H.history[\"val_accuracy\"], label=\"val_acc\")\n",
        "\n",
        "plt.title(\"Training Loss and Accuracy\")\n",
        "plt.xlabel(\"Epoch #\")\n",
        "plt.ylabel(\"Loss/Accuracy\")\n",
        "plt.legend(loc=\"upper right\")"
      ],
      "metadata": {
        "colab": {
          "base_uri": "https://localhost:8080/",
          "height": 494
        },
        "id": "6qyMDTdXwYOb",
        "outputId": "4a779b6b-1eeb-45c9-9cb7-9b0979f2b2e3"
      },
      "execution_count": 12,
      "outputs": [
        {
          "output_type": "execute_result",
          "data": {
            "text/plain": [
              "<matplotlib.legend.Legend at 0x7f22845a9630>"
            ]
          },
          "metadata": {},
          "execution_count": 12
        },
        {
          "output_type": "display_data",
          "data": {
            "text/plain": [
              "<Figure size 640x480 with 1 Axes>"
            ],
            "image/png": "[encoded data removed]"
          },
          "metadata": {}
        }
      ]
    },
    {
      "cell_type": "code",
      "source": [
        "# save the model to disk\n",
        "model.save('gender_detection.h5')"
      ],
      "metadata": {
        "id": "6eieFwRQQRjy"
      },
      "execution_count": 21,
      "outputs": []
    }
  ]
}